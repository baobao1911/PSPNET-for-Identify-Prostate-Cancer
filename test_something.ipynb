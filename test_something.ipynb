{
 "cells": [
  {
   "cell_type": "code",
   "execution_count": 1,
   "metadata": {},
   "outputs": [
    {
     "name": "stdout",
     "output_type": "stream",
     "text": [
      "torch.Size([2, 64, 128, 128])\n",
      "layer 0  torch.Size([2, 64, 64, 64])\n",
      "layer 1  torch.Size([2, 256, 64, 64])\n",
      "layer 2  torch.Size([2, 512, 32, 32])\n",
      "layer 3  torch.Size([2, 1024, 16, 16])\n",
      "layer 4  torch.Size([2, 2048, 8, 8])\n"
     ]
    },
    {
     "data": {
      "text/plain": [
       "torch.Size([2, 2048, 8, 8])"
      ]
     },
     "execution_count": 1,
     "metadata": {},
     "output_type": "execute_result"
    }
   ],
   "source": [
    "from Model.Backbone.Resnet101 import *\n",
    "import torch\n",
    "\n",
    "model = resnet101(pretrained=True, model_path=r'D:\\University\\Semantic_Segmentation_for_Prostate_Cancer_Detection\\Semantic_Segmentation_for_Prostate_Cancer_Detection\\Utils\\resnet101-v2.pth')\n",
    "x = torch.rand(2, 3, 256, 256)\n",
    "model(x).size()"
   ]
  },
  {
   "cell_type": "code",
   "execution_count": 3,
   "metadata": {},
   "outputs": [
    {
     "data": {
      "text/plain": [
       "torch.Size([256, 256])"
      ]
     },
     "execution_count": 3,
     "metadata": {},
     "output_type": "execute_result"
    }
   ],
   "source": [
    "x.size()[2:]"
   ]
  },
  {
   "cell_type": "code",
   "execution_count": 4,
   "metadata": {},
   "outputs": [
    {
     "data": {
      "text/plain": [
       "torch.Size([2, 3, 256, 256])"
      ]
     },
     "execution_count": 4,
     "metadata": {},
     "output_type": "execute_result"
    }
   ],
   "source": [
    "u = torch.rand(2, 3, 32, 32)\n",
    "u = torch.nn.functional.interpolate(u, size=x.size()[2:], mode='bilinear')\n",
    "u.size()"
   ]
  },
  {
   "cell_type": "code",
   "execution_count": 5,
   "metadata": {},
   "outputs": [
    {
     "data": {
      "text/plain": [
       "torch.Size([2, 1536, 32, 32])"
      ]
     },
     "execution_count": 5,
     "metadata": {},
     "output_type": "execute_result"
    }
   ],
   "source": [
    "from Model.Module.HDC import *\n",
    "\n",
    "\n",
    "model =  HybridDilatedConv(2048, 1536, kernel_size=3, rates=[1, 2, 5, 1, 2, 5])\n",
    "u = torch.rand(2, 2048, 32, 32)\n",
    "model(u).size()\n"
   ]
  },
  {
   "cell_type": "code",
   "execution_count": 4,
   "metadata": {},
   "outputs": [
    {
     "data": {
      "text/plain": [
       "1536"
      ]
     },
     "execution_count": 4,
     "metadata": {},
     "output_type": "execute_result"
    }
   ],
   "source": [
    "256*6"
   ]
  },
  {
   "cell_type": "code",
   "execution_count": null,
   "metadata": {},
   "outputs": [],
   "source": []
  }
 ],
 "metadata": {
  "kernelspec": {
   "display_name": "bao",
   "language": "python",
   "name": "python3"
  },
  "language_info": {
   "codemirror_mode": {
    "name": "ipython",
    "version": 3
   },
   "file_extension": ".py",
   "mimetype": "text/x-python",
   "name": "python",
   "nbconvert_exporter": "python",
   "pygments_lexer": "ipython3",
   "version": "3.9.18"
  }
 },
 "nbformat": 4,
 "nbformat_minor": 2
}
