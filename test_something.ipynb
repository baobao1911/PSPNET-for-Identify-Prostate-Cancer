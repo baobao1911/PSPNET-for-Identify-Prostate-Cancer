{
 "cells": [
  {
   "cell_type": "code",
   "execution_count": 1,
   "metadata": {},
   "outputs": [
    {
     "name": "stdout",
     "output_type": "stream",
     "text": [
      "torch.Size([2, 64, 128, 128])\n",
      "layer 0  torch.Size([2, 64, 64, 64])\n",
      "layer 1  torch.Size([2, 256, 64, 64])\n",
      "layer 2  torch.Size([2, 512, 32, 32])\n",
      "layer 3  torch.Size([2, 1024, 16, 16])\n",
      "layer 4  torch.Size([2, 2048, 8, 8])\n"
     ]
    },
    {
     "data": {
      "text/plain": [
       "torch.Size([2, 2048, 8, 8])"
      ]
     },
     "execution_count": 1,
     "metadata": {},
     "output_type": "execute_result"
    }
   ],
   "source": [
    "from Model.Backbone.Resnet101 import *\n",
    "import torch\n",
    "\n",
    "model = resnet101(pretrained=True, model_path=r'D:\\University\\Semantic_Segmentation_for_Prostate_Cancer_Detection\\Semantic_Segmentation_for_Prostate_Cancer_Detection\\Utils\\resnet101-v2.pth')\n",
    "x = torch.rand(2, 3, 256, 256)\n",
    "model(x).size()"
   ]
  },
  {
   "cell_type": "code",
   "execution_count": 1,
   "metadata": {},
   "outputs": [],
   "source": [
    "import torch\n",
    "from Model.Module.DAModule import *\n",
    "\n",
    "module = DAModule(2048, 2048, nn.BatchNorm2d)\n",
    "x = torch.rand(2, 2048, 32, 32)\n",
    "z = module(x)"
   ]
  },
  {
   "cell_type": "code",
   "execution_count": 3,
   "metadata": {},
   "outputs": [
    {
     "name": "stdout",
     "output_type": "stream",
     "text": [
      "torch.Size([2, 2048, 32, 32])\n",
      "Position attention  torch.Size([2, 2048, 32, 32])\n",
      "Channel attention torch.Size([2, 2048, 32, 32])\n"
     ]
    }
   ],
   "source": [
    "print(z[0].size())\n",
    "print('Position attention ', z[1].size())\n",
    "print('Channel attention', z[2].size())"
   ]
  },
  {
   "cell_type": "code",
   "execution_count": 4,
   "metadata": {},
   "outputs": [
    {
     "data": {
      "text/plain": [
       "512"
      ]
     },
     "execution_count": 4,
     "metadata": {},
     "output_type": "execute_result"
    }
   ],
   "source": [
    "2048//4"
   ]
  },
  {
   "cell_type": "code",
   "execution_count": null,
   "metadata": {},
   "outputs": [],
   "source": []
  }
 ],
 "metadata": {
  "kernelspec": {
   "display_name": "bao",
   "language": "python",
   "name": "python3"
  },
  "language_info": {
   "codemirror_mode": {
    "name": "ipython",
    "version": 3
   },
   "file_extension": ".py",
   "mimetype": "text/x-python",
   "name": "python",
   "nbconvert_exporter": "python",
   "pygments_lexer": "ipython3",
   "version": "3.9.18"
  }
 },
 "nbformat": 4,
 "nbformat_minor": 2
}
