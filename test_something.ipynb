{
 "cells": [
  {
   "cell_type": "code",
   "execution_count": 1,
   "metadata": {},
   "outputs": [],
   "source": [
    "from Model.Backbone.EfficientNet import *\n",
    "import torch"
   ]
  },
  {
   "cell_type": "code",
   "execution_count": 2,
   "metadata": {},
   "outputs": [
    {
     "data": {
      "text/plain": [
       "torch.Size([2, 2048, 16, 16])"
      ]
     },
     "execution_count": 2,
     "metadata": {},
     "output_type": "execute_result"
    }
   ],
   "source": [
    "model = efficientNet(True, 'b5', r'D:\\University\\Semantic_Segmentation_for_Prostate_Cancer_Detection\\Semantic_Segmentation_for_Prostate_Cancer_Detection\\Utils\\efficientnet_b5.pth')\n",
    "\n",
    "x = torch.rand(2, 3, 256, 256)\n",
    "model(x).size()"
   ]
  }
 ],
 "metadata": {
  "kernelspec": {
   "display_name": "bao",
   "language": "python",
   "name": "python3"
  },
  "language_info": {
   "codemirror_mode": {
    "name": "ipython",
    "version": 3
   },
   "file_extension": ".py",
   "mimetype": "text/x-python",
   "name": "python",
   "nbconvert_exporter": "python",
   "pygments_lexer": "ipython3",
   "version": "3.9.18"
  }
 },
 "nbformat": 4,
 "nbformat_minor": 2
}
