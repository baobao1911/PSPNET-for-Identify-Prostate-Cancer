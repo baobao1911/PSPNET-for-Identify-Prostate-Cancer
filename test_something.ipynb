{
 "cells": [
  {
   "cell_type": "code",
   "execution_count": 1,
   "metadata": {},
   "outputs": [],
   "source": [
    "import torch\n",
    "import torch.nn as nn"
   ]
  },
  {
   "cell_type": "code",
   "execution_count": 2,
   "metadata": {},
   "outputs": [],
   "source": [
    "from Model.Backbone.Xception65 import *\n",
    "from Model.Module.CBAM import *"
   ]
  },
  {
   "cell_type": "code",
   "execution_count": null,
   "metadata": {},
   "outputs": [],
   "source": []
  },
  {
   "cell_type": "code",
   "execution_count": 3,
   "metadata": {},
   "outputs": [],
   "source": [
    "class DWConv(nn.Module):\n",
    "    def __init__(self, in_ch, stride, dilation):\n",
    "        super(DWConv, self).__init__()\n",
    "        self.conv1 = nn.Sequential(\n",
    "            nn.Conv2d(in_ch, in_ch, kernel_size=1),\n",
    "            nn.BatchNorm2d(in_ch),\n",
    "            nn.ReLU(inplace=True)\n",
    "        )\n",
    "        self.dwconv = nn.Sequential(\n",
    "            SeparableConv2d(in_ch, in_ch, kernel_size=3, stride=stride, dilation=dilation, BatchNorm=nn.BatchNorm2d),\n",
    "            nn.BatchNorm2d(in_ch),\n",
    "            nn.ReLU(inplace=True)\n",
    "        )\n",
    "        self.conv1_2 = nn.Sequential(\n",
    "            nn.Conv2d(in_ch, in_ch, kernel_size=1),\n",
    "            nn.BatchNorm2d(in_ch)\n",
    "        )\n",
    "\n",
    "        self.ca = nn.Sequential(\n",
    "            ChannelAttention(in_planes=in_ch),\n",
    "            nn.ReLU(inplace=True)\n",
    "        )\n",
    "    def forward(self, x):\n",
    "        x = self.conv1(x)\n",
    "        x = self.dwconv(x)\n",
    "        x = self.conv1_2(x)\n",
    "        x = self.ca(x)*x\n",
    "        return x\n",
    "        \n",
    "        \n"
   ]
  },
  {
   "cell_type": "code",
   "execution_count": 4,
   "metadata": {},
   "outputs": [],
   "source": [
    "from Model.Module.HDC import *"
   ]
  },
  {
   "cell_type": "code",
   "execution_count": 5,
   "metadata": {},
   "outputs": [
    {
     "data": {
      "text/plain": [
       "torch.Size([2, 1024, 32, 32])"
      ]
     },
     "execution_count": 5,
     "metadata": {},
     "output_type": "execute_result"
    }
   ],
   "source": [
    "\n",
    "x = torch.rand(2, 2048, 32, 32)\n",
    "m = SCBAM(in_channels=2048, out_channels=256*4, kernel_size=3, stride=1, rates=[1,2,3,5])\n",
    "m(x).size()"
   ]
  },
  {
   "cell_type": "code",
   "execution_count": null,
   "metadata": {},
   "outputs": [],
   "source": []
  }
 ],
 "metadata": {
  "kernelspec": {
   "display_name": "bao",
   "language": "python",
   "name": "python3"
  },
  "language_info": {
   "codemirror_mode": {
    "name": "ipython",
    "version": 3
   },
   "file_extension": ".py",
   "mimetype": "text/x-python",
   "name": "python",
   "nbconvert_exporter": "python",
   "pygments_lexer": "ipython3",
   "version": "3.9.18"
  }
 },
 "nbformat": 4,
 "nbformat_minor": 2
}
